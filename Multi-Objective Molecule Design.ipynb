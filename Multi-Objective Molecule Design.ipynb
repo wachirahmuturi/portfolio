{
 "cells": [
  {
   "cell_type": "markdown",
   "id": "cf882062",
   "metadata": {},
   "source": [
    "# Multi-Objective Molecule Design"
   ]
  },
  {
   "cell_type": "markdown",
   "id": "d284beb0",
   "metadata": {},
   "source": [
    "Credits to Jin et al 2019 for the development of this algorithm"
   ]
  },
  {
   "cell_type": "markdown",
   "id": "c7cc5e9b",
   "metadata": {},
   "source": [
    "## Principle"
   ]
  },
  {
   "cell_type": "markdown",
   "id": "cc22968b",
   "metadata": {},
   "source": [
    "The algorithm is based on the idea of using motifs as building blocks that explain specific properties present in a class of compounds. A property predictor is used to explain the validity of each motif and the most relevant motif is picked out. To generate dual activity i.e compound with 2 different properties, the algorithm combines 2 property-specific motifs based on a maximum common substructure.\n",
    "\n",
    "The architecture for this algorithm is based on a Variational Autoencoder that utilizes Graph Neural Networks with Message Passing Networks on both the encoder and decoder"
   ]
  },
  {
   "cell_type": "markdown",
   "id": "fb383647",
   "metadata": {},
   "source": [
    "The workflow for this algorithm is based as following\n",
    "1. Building a property predictor\n",
    "2. Motif extraction \n",
    "3. Training a graph neural net on valid molecular structures\n",
    "4. Generation of molecules based on extracted motifs"
   ]
  },
  {
   "cell_type": "markdown",
   "id": "d275e00c",
   "metadata": {},
   "source": [
    "## Aim of this Project"
   ]
  },
  {
   "cell_type": "markdown",
   "id": "238aaedf",
   "metadata": {},
   "source": [
    "We will try to **replicate** the work done by Carlsson and his team. Here is the link to the original paper: https://pubs.acs.org/doi/full/10.1021/acs.jmedchem.8b00204 \n",
    "\n",
    "Two targets relevant for drug development against Parkinson’s disease, A2AAR and MAO-B, were selected to explore the possibility of discovering dual-target ligand. They used molecular docking screens to evaluate a library of compounds for dual-activity. Instead, we will use this multi-property molecular optimization approach as **an alternative approach** to try generate similar results. \n",
    "\n",
    "This sample project will act as a proof of concept study to show that the approach of merging properties specific to different targets can generate real-world molecules that have demonstrated dual-activity. "
   ]
  },
  {
   "cell_type": "markdown",
   "id": "67dbbc14",
   "metadata": {},
   "source": [
    "# 1. Property Predictor Model"
   ]
  },
  {
   "cell_type": "markdown",
   "id": "ddff8656",
   "metadata": {},
   "source": [
    "To make it easy for users to follow through, I will only include the workflow for 1 protein target i.e ***A2A Adenosine receptor***. The same workflow was used for generating the model for the 2nd target "
   ]
  },
  {
   "cell_type": "markdown",
   "id": "f0985903",
   "metadata": {},
   "source": [
    "###  Data Preprocessing"
   ]
  },
  {
   "cell_type": "code",
   "execution_count": null,
   "id": "af752f13",
   "metadata": {},
   "outputs": [],
   "source": [
    "import pandas as pd\n",
    "from chembl_webresource_client.new_client import new_client"
   ]
  },
  {
   "cell_type": "code",
   "execution_count": null,
   "id": "9f7930b1",
   "metadata": {},
   "outputs": [],
   "source": [
    "target = new_client.target\n",
    "target_query = target.search(\"A2A Adenosine receptor\")\n",
    "targets = pd.DataFrame.from_dict(target_query)\n",
    "targets"
   ]
  },
  {
   "cell_type": "code",
   "execution_count": null,
   "id": "2d632f7e",
   "metadata": {},
   "outputs": [],
   "source": [
    "selected_target = targets.target_chembl_id = 'CHEMBL251'\n",
    "activity = new_client.activity\n",
    "result = activity.filter(target_chembl_id=selected_target).filter(standard_type=\"IC50\")"
   ]
  },
  {
   "cell_type": "code",
   "execution_count": null,
   "id": "ad3f7e97",
   "metadata": {},
   "outputs": [],
   "source": [
    "df1 = pd.DataFrame.from_dict(result)\n",
    "df1"
   ]
  },
  {
   "cell_type": "code",
   "execution_count": null,
   "id": "dffcd7f1",
   "metadata": {},
   "outputs": [],
   "source": [
    "df1.to_csv(\"A2AAR_bioactivity_data.csv\", index=False)"
   ]
  },
  {
   "cell_type": "markdown",
   "id": "e09929af",
   "metadata": {},
   "source": [
    "### Handling missing data"
   ]
  },
  {
   "cell_type": "code",
   "execution_count": null,
   "id": "4ea97369",
   "metadata": {},
   "outputs": [],
   "source": [
    "df1a = df1[df1.standard_value.notna()]\n",
    "df1a"
   ]
  },
  {
   "cell_type": "markdown",
   "id": "29a3d419",
   "metadata": {},
   "source": [
    "### Label the compounds as either Active, Inactive or Intermediate"
   ]
  },
  {
   "cell_type": "code",
   "execution_count": null,
   "id": "720bd560",
   "metadata": {},
   "outputs": [],
   "source": [
    "selection = ['molecule_chembl_id','canonical_smiles','standard_value']\n",
    "df1b = df1a[selection]\n",
    "df1b"
   ]
  },
  {
   "cell_type": "code",
   "execution_count": null,
   "id": "1b4ffe2f",
   "metadata": {},
   "outputs": [],
   "source": [
    "bioactivity_class = []\n",
    "for i in df1b.standard_value:\n",
    "    if float(i) <= 1000:\n",
    "        bioactivity_class.append('active')\n",
    "    elif float(i) >= 10000:\n",
    "        bioactivity_class.append('inactive')\n",
    "    else:\n",
    "        bioactivity_class.append('intermediate')"
   ]
  },
  {
   "cell_type": "code",
   "execution_count": null,
   "id": "90306572",
   "metadata": {},
   "outputs": [],
   "source": [
    "bioactivity_class = pd.Series(bioactivity_class, name='bioactivity_class')\n",
    "df1c = pd.concat([df1b.reset_index(drop=True), bioactivity_class], axis=1)\n",
    "df1c"
   ]
  },
  {
   "cell_type": "code",
   "execution_count": null,
   "id": "26746a34",
   "metadata": {},
   "outputs": [],
   "source": [
    "#Save the data for then next step\n",
    "df1c.to_csv(\"A2AAR_preprocessed.csv\", index=False)\n",
    "#df2c.to_csv(\"MAO-B_preprocessed.csv\", index=False)"
   ]
  },
  {
   "cell_type": "markdown",
   "id": "131cb4b8",
   "metadata": {},
   "source": [
    "## Calculating Lipinski descriptors"
   ]
  },
  {
   "cell_type": "markdown",
   "id": "66cc0bfe",
   "metadata": {},
   "source": [
    "The Lipinski Rule of 5 is used for describing the ADME profile or the drug-likeness of orally active FDA-approved drugs\n",
    "\n",
    "The Lipinski's Rule states the following:\n",
    "\n",
    "    Molecular weight < 500 Dalton\n",
    "    Octanol-water partition coefficient (LogP) < 5\n",
    "    Hydrogen bond donors < 5\n",
    "    Hydrogen bond acceptors < 10\n",
    "\n",
    "LogP value is more like the solubility of the molecule"
   ]
  },
  {
   "cell_type": "code",
   "execution_count": null,
   "id": "8f1b8c5c",
   "metadata": {},
   "outputs": [],
   "source": [
    "import numpy as np\n",
    "from rdkit import Chem\n",
    "from rdkit.Chem import Descriptors, Lipinski"
   ]
  },
  {
   "cell_type": "code",
   "execution_count": null,
   "id": "30ccbd94",
   "metadata": {},
   "outputs": [],
   "source": [
    "def lipinski(smiles, verbose=False):\n",
    "    moldata=[]\n",
    "    for elem in smiles:\n",
    "        mol = Chem.MolFromSmiles(elem)\n",
    "        moldata.append(mol)\n",
    "    \n",
    "    basedata = np.arange(1,1)\n",
    "    i=0\n",
    "    for mol in moldata:\n",
    "        desc_MolWt = Descriptors.MolWt(mol)\n",
    "        desc_MolLogP = Descriptors.MolLogP(mol)\n",
    "        desc_NumHDonors = Lipinski.NumHDonors(mol)\n",
    "        desc_NUmHAcceptors = Lipinski.NumHAcceptors(mol)\n",
    "        \n",
    "        row = np.array([desc_MolWt,\n",
    "                       desc_MolLogP,\n",
    "                       desc_NumHDonors,\n",
    "                       desc_NUmHAcceptors])\n",
    "        if(i == 0):\n",
    "            basedata = row\n",
    "        else:\n",
    "            basedata = np.vstack([basedata,row])\n",
    "        i = i+1\n",
    "        \n",
    "    columnNames = ['MW','LogP','NumHDonors','NumHAcceptors']\n",
    "    descriptors = pd.DataFrame(data=basedata,columns=columnNames)\n",
    "    \n",
    "    return descriptors "
   ]
  },
  {
   "cell_type": "code",
   "execution_count": null,
   "id": "2d1e5fb2",
   "metadata": {},
   "outputs": [],
   "source": [
    "A2AAR_lipinski = lipinski(df1c.canonical_smiles)\n",
    "#MAOB_lipinski = lipinski(df2c.canonical_smiles)"
   ]
  },
  {
   "cell_type": "code",
   "execution_count": null,
   "id": "f78ca890",
   "metadata": {},
   "outputs": [],
   "source": [
    "df_A2AAR = pd.concat([df1c, A2AAR_lipinski], axis=1)\n",
    "#df_MAOB = pd.concat([df2c, MAOB_lipinski], axis=1)"
   ]
  },
  {
   "cell_type": "code",
   "execution_count": null,
   "id": "b30e4bc2",
   "metadata": {},
   "outputs": [],
   "source": [
    "df_A2AAR"
   ]
  },
  {
   "cell_type": "code",
   "execution_count": null,
   "id": "7cd9deed",
   "metadata": {},
   "outputs": [],
   "source": [
    "df_A2AAR.standard_value.describe()"
   ]
  },
  {
   "cell_type": "markdown",
   "id": "b6f18f09",
   "metadata": {},
   "source": [
    "### Convert standard IC50 values to pIC50 values"
   ]
  },
  {
   "cell_type": "code",
   "execution_count": null,
   "id": "284ced6b",
   "metadata": {},
   "outputs": [],
   "source": [
    "import numpy as np\n",
    "\n",
    "def pIC50(input):\n",
    "    pIC50 = []\n",
    "    \n",
    "    for i in input['standard_value']:\n",
    "        molar = float(i) * (10**-9)\n",
    "        pIC50.append(-np.log10(molar))\n",
    "        \n",
    "    input['pIC50'] = pIC50\n",
    "    X = input.drop('standard_value',1)\n",
    "    \n",
    "    return X"
   ]
  },
  {
   "cell_type": "code",
   "execution_count": null,
   "id": "99f6e9d6",
   "metadata": {},
   "outputs": [],
   "source": [
    "def norm_value(input):\n",
    "    norm = []\n",
    "    \n",
    "    for x in input['standard_value']:\n",
    "        if x > 100000000:\n",
    "            x = 100000000\n",
    "        norm.append(x)\n",
    "    input['standard_value_norm'] = norm\n",
    "    X = input.drop('standard_value', 1)\n",
    "    \n",
    "    return X"
   ]
  },
  {
   "cell_type": "code",
   "execution_count": null,
   "id": "e5c0fde0",
   "metadata": {},
   "outputs": [],
   "source": [
    "#Looking at the distribution of the data its not necessary to perform normalization on either A2AAR or the MAOB data\n",
    "# The data values on  the standard_value column do not exceed 100,000\n",
    "\n",
    "#A2AAR_norm = norm_value(df_A2AAR)\n",
    "#A2AAR_norm"
   ]
  },
  {
   "cell_type": "code",
   "execution_count": null,
   "id": "26080e77",
   "metadata": {},
   "outputs": [],
   "source": [
    "A2AAR_PIC50 = pIC50(df_A2AAR)\n",
    "A2AAR_PIC50"
   ]
  },
  {
   "cell_type": "code",
   "execution_count": null,
   "id": "9d10ae82",
   "metadata": {},
   "outputs": [],
   "source": [
    "A2AAR_PIC50.to_csv(\"A2AAR_lipinski_pIC50.csv\", index=False)"
   ]
  },
  {
   "cell_type": "markdown",
   "id": "93262b05",
   "metadata": {},
   "source": [
    "To make the project more fuller, it would be useful to perform ***Exploratory Data Analysis***\n",
    "on the above data especially on the distribution of the active compounds vs inactives. Such data would help provide the significance of each  Lipinski descriptor\n",
    "\n",
    "Though for this project, we simply isolate ourselves to the task of using the pIC50 value for building a prediction model"
   ]
  },
  {
   "cell_type": "markdown",
   "id": "d69a408d",
   "metadata": {},
   "source": [
    "## Calculating Molecular Fingerprints"
   ]
  },
  {
   "cell_type": "markdown",
   "id": "2c2ac059",
   "metadata": {},
   "source": [
    "We will be using the Padel Descriptor Calculator for this part but first we need to extract the canonical-smiles string notation of the molecules"
   ]
  },
  {
   "cell_type": "markdown",
   "id": "4b25a33e",
   "metadata": {},
   "source": [
    "### Let's preprocess the bioactivity data for the SMILES"
   ]
  },
  {
   "cell_type": "code",
   "execution_count": null,
   "id": "cb930d1f",
   "metadata": {},
   "outputs": [],
   "source": [
    "selection = ['canonical_smiles','molecule_chembl_id']\n",
    "A2AAR_smiles = A2AAR_PIC50[selection]\n",
    "A2AAR_smiles.to_csv('A2AAR_molecule.smi', sep='\\t', index=False, header=False)"
   ]
  },
  {
   "cell_type": "code",
   "execution_count": null,
   "id": "4ba68878",
   "metadata": {},
   "outputs": [],
   "source": [
    "cat A2AAR_molecule.smi | head -3"
   ]
  },
  {
   "cell_type": "code",
   "execution_count": null,
   "id": "bc0ef399",
   "metadata": {},
   "outputs": [],
   "source": [
    "cat A2AAR_molecule.smi | wc -l"
   ]
  },
  {
   "cell_type": "code",
   "execution_count": null,
   "id": "17a63766",
   "metadata": {},
   "outputs": [],
   "source": [
    "#This is a command line version of the Descriptor Calculator that has been configured\n",
    "!bash padel.sh"
   ]
  },
  {
   "cell_type": "markdown",
   "id": "081e87f6",
   "metadata": {},
   "source": [
    "The output of the Padel Descriptor Calculator will be a csv file that can be imported into the notebook for further processing"
   ]
  },
  {
   "cell_type": "markdown",
   "id": "caca3bdc",
   "metadata": {},
   "source": [
    "### Generate the X and Y dataframes for model building"
   ]
  },
  {
   "cell_type": "code",
   "execution_count": null,
   "id": "de610408",
   "metadata": {},
   "outputs": [],
   "source": [
    "A2AAR_XY = pd.read_csv('ECFP_fingerprints_A2AAR.csv')\n",
    "A2AAR_XY"
   ]
  },
  {
   "cell_type": "code",
   "execution_count": null,
   "id": "1465e86e",
   "metadata": {},
   "outputs": [],
   "source": [
    "A2AAR_X = A2AAR_XY.drop(columns=['y','w','ids'])\n",
    "A2AAR_X"
   ]
  },
  {
   "cell_type": "code",
   "execution_count": null,
   "id": "9023aa26",
   "metadata": {},
   "outputs": [],
   "source": [
    "A2AAR_Y = A2AAR_XY['y']\n",
    "A2AAR_Y"
   ]
  },
  {
   "cell_type": "markdown",
   "id": "e07d0d05",
   "metadata": {},
   "source": [
    "The X dataframe contains the features for model building while the Y dataframe contains the pIC50 value which will be our property of interest in building a regression model"
   ]
  },
  {
   "cell_type": "markdown",
   "id": "56857f68",
   "metadata": {},
   "source": [
    "## Building a Regression Model"
   ]
  },
  {
   "cell_type": "code",
   "execution_count": null,
   "id": "623cf551",
   "metadata": {},
   "outputs": [],
   "source": [
    "# Importing the libraries\n",
    "import numpy as np # for array operations\n",
    "import pandas as pd # for working with DataFrames\n",
    "import requests, io # for HTTP requests and I/O commands\n",
    "import matplotlib.pyplot as plt # for data visualization\n",
    "%matplotlib inline\n",
    "\n",
    "# scikit-learn modules\n",
    "from sklearn.ensemble import RandomForestRegressor # for building the model\n",
    "from sklearn.model_selection import train_test_split, GridSearchCV\n",
    "from sklearn.metrics import mean_absolute_error, mean_squared_error"
   ]
  },
  {
   "cell_type": "code",
   "execution_count": null,
   "id": "4e1b767f",
   "metadata": {},
   "outputs": [],
   "source": [
    "x_train, x_test, y_train, y_test = train_test_split(A2AAR_X, A2AAR_Y, test_size = 0.2, random_state = 28)"
   ]
  },
  {
   "cell_type": "code",
   "execution_count": null,
   "id": "e5f748fa",
   "metadata": {},
   "outputs": [],
   "source": [
    "bag_forest_reg = RandomForestRegressor(n_estimators=100,\n",
    "                                       criterion=\"mse\",\n",
    "                                       max_features=6,\n",
    "                                       n_jobs=-1,\n",
    "                                       random_state=1)\n",
    "\n",
    "bag_forest_reg.fit(x_train, y_train)\n",
    "\n",
    "train_pred_y = bag_forest_reg.predict(x_train)\n",
    "test_pred_y = bag_forest_reg.predict(x_test)\n",
    "\n",
    "print(f\"train_MSE = {mean_squared_error(y_train, train_pred_y)}\")\n",
    "print(f\"test_MSE = {mean_squared_error(y_test, test_pred_y)}\")"
   ]
  },
  {
   "cell_type": "code",
   "execution_count": null,
   "id": "525e9773",
   "metadata": {},
   "outputs": [],
   "source": [
    "param_grid = {\n",
    "    \"n_estimators\":[100,200,300],\n",
    "    \"max_depth\":[10, 50, 100],\n",
    "    \"max_features\":[6,8,10,12,14,16]\n",
    "}\n",
    "\n",
    "rf_reg = RandomForestRegressor()\n",
    "\n",
    "rf_reg_tuned = GridSearchCV(estimator=rf_reg,\n",
    "                            param_grid=param_grid,\n",
    "                            cv=3,\n",
    "                            n_jobs=-1,\n",
    "                            verbose=2)\n",
    "\n",
    "rf_reg_tuned.fit(x_train, y_train)\n",
    "grid_best = rf_reg_tuned.best_estimator_\n",
    "\n",
    "train_pred_y = grid_best.predict(x_train)\n",
    "test_pred_y = grid_best.predict(x_test)\n",
    "\n",
    "print(f\"train_MSE = {mean_squared_error(y_train, train_pred_y)}\")\n",
    "print(f\"test_MSE = {mean_squared_error(y_test, test_pred_y)}\")"
   ]
  },
  {
   "cell_type": "markdown",
   "id": "45422a1a",
   "metadata": {},
   "source": [
    "In this example, I used a random forest regressor to build the prediction model. From the above code cell, I tried doing some small parameter tuning using grid search. You can try to add more parameters for tuning\n",
    "\n",
    "A suggestion I would have for a higher scoring model would be to try using an LGBM regressor or XgBoost regressor"
   ]
  },
  {
   "cell_type": "code",
   "execution_count": null,
   "id": "376d52b4",
   "metadata": {},
   "outputs": [],
   "source": [
    "# We shall export the better model and pickle it \n",
    "import pickle\n",
    "pickle.dump(grid_best, open('A2AAR_reg.pkl', 'wb'))"
   ]
  },
  {
   "cell_type": "markdown",
   "id": "c45de025",
   "metadata": {},
   "source": [
    "# 2. Motif Extraction"
   ]
  },
  {
   "cell_type": "markdown",
   "id": "643de5a1",
   "metadata": {},
   "source": [
    "Due to the heavy computation of the remaining steps, it is recommended to run the following work on a machine with Nvidia GPU.The python scripts have been implemented to use pythorch's CUDA which utilizes Nvidia GPUs. We will be utilizing python scripts offline which can run from Jupyter notebook"
   ]
  },
  {
   "cell_type": "markdown",
   "id": "c3a83067",
   "metadata": {},
   "source": [
    "For the motif extraction, we need a set of active compounds for both receptors. We will generate this set of actives from the lipinski dataframe which we saved offline,"
   ]
  },
  {
   "cell_type": "code",
   "execution_count": 17,
   "id": "3b5b2b44",
   "metadata": {
    "scrolled": true
   },
   "outputs": [
    {
     "data": {
      "text/html": [
       "<div>\n",
       "<style scoped>\n",
       "    .dataframe tbody tr th:only-of-type {\n",
       "        vertical-align: middle;\n",
       "    }\n",
       "\n",
       "    .dataframe tbody tr th {\n",
       "        vertical-align: top;\n",
       "    }\n",
       "\n",
       "    .dataframe thead th {\n",
       "        text-align: right;\n",
       "    }\n",
       "</style>\n",
       "<table border=\"1\" class=\"dataframe\">\n",
       "  <thead>\n",
       "    <tr style=\"text-align: right;\">\n",
       "      <th></th>\n",
       "      <th>molecule_chembl_id</th>\n",
       "      <th>canonical_smiles</th>\n",
       "      <th>bioactivity_class</th>\n",
       "      <th>MW</th>\n",
       "      <th>LogP</th>\n",
       "      <th>NumHDonors</th>\n",
       "      <th>NumHAcceptors</th>\n",
       "      <th>pIC50</th>\n",
       "    </tr>\n",
       "  </thead>\n",
       "  <tbody>\n",
       "    <tr>\n",
       "      <th>0</th>\n",
       "      <td>CHEMBL280888</td>\n",
       "      <td>CCCSc1c2c(nc(N)n3nc(-c4ccco4)nc23)nn1C</td>\n",
       "      <td>active</td>\n",
       "      <td>329.389</td>\n",
       "      <td>2.35530</td>\n",
       "      <td>1.0</td>\n",
       "      <td>9.0</td>\n",
       "      <td>7.829738</td>\n",
       "    </tr>\n",
       "    <tr>\n",
       "      <th>1</th>\n",
       "      <td>CHEMBL22113</td>\n",
       "      <td>COc1ccc(NC(=O)Nc2nc3nn(C)c(SC)c3c3nc(-c4ccco4)...</td>\n",
       "      <td>active</td>\n",
       "      <td>450.484</td>\n",
       "      <td>3.64550</td>\n",
       "      <td>2.0</td>\n",
       "      <td>10.0</td>\n",
       "      <td>7.756962</td>\n",
       "    </tr>\n",
       "    <tr>\n",
       "      <th>2</th>\n",
       "      <td>CHEMBL554955</td>\n",
       "      <td>CCNc1c2c(nc(NC(=O)Nc3ccc(OC)cc3)n3nc(-c4ccco4)...</td>\n",
       "      <td>active</td>\n",
       "      <td>483.920</td>\n",
       "      <td>3.77720</td>\n",
       "      <td>3.0</td>\n",
       "      <td>10.0</td>\n",
       "      <td>7.214670</td>\n",
       "    </tr>\n",
       "    <tr>\n",
       "      <th>3</th>\n",
       "      <td>CHEMBL21572</td>\n",
       "      <td>CSc1c2c(nc(NC(=O)Cc3ccc4c(c3)OCO4)n3nc(-c4ccco...</td>\n",
       "      <td>active</td>\n",
       "      <td>463.479</td>\n",
       "      <td>2.90280</td>\n",
       "      <td>1.0</td>\n",
       "      <td>11.0</td>\n",
       "      <td>7.667562</td>\n",
       "    </tr>\n",
       "    <tr>\n",
       "      <th>4</th>\n",
       "      <td>CHEMBL281129</td>\n",
       "      <td>CSc1c2c(nc(N)n3nc(-c4ccco4)nc23)nn1C</td>\n",
       "      <td>active</td>\n",
       "      <td>301.335</td>\n",
       "      <td>1.57510</td>\n",
       "      <td>1.0</td>\n",
       "      <td>9.0</td>\n",
       "      <td>8.214670</td>\n",
       "    </tr>\n",
       "    <tr>\n",
       "      <th>...</th>\n",
       "      <td>...</td>\n",
       "      <td>...</td>\n",
       "      <td>...</td>\n",
       "      <td>...</td>\n",
       "      <td>...</td>\n",
       "      <td>...</td>\n",
       "      <td>...</td>\n",
       "      <td>...</td>\n",
       "    </tr>\n",
       "    <tr>\n",
       "      <th>539</th>\n",
       "      <td>CHEMBL2024116</td>\n",
       "      <td>Cc1cc(-c2nnc(N)nc2-c2ccc(F)cc2)cc(C)n1</td>\n",
       "      <td>active</td>\n",
       "      <td>295.321</td>\n",
       "      <td>2.93874</td>\n",
       "      <td>1.0</td>\n",
       "      <td>5.0</td>\n",
       "      <td>9.102373</td>\n",
       "    </tr>\n",
       "    <tr>\n",
       "      <th>540</th>\n",
       "      <td>CHEMBL2024116</td>\n",
       "      <td>Cc1cc(-c2nnc(N)nc2-c2ccc(F)cc2)cc(C)n1</td>\n",
       "      <td>active</td>\n",
       "      <td>295.321</td>\n",
       "      <td>2.93874</td>\n",
       "      <td>1.0</td>\n",
       "      <td>5.0</td>\n",
       "      <td>8.000000</td>\n",
       "    </tr>\n",
       "    <tr>\n",
       "      <th>541</th>\n",
       "      <td>CHEMBL4797036</td>\n",
       "      <td>Nc1nc(-c2ccc(NC(=O)c3ccc(S(N)(=O)=O)cc3)cc2)cn...</td>\n",
       "      <td>active</td>\n",
       "      <td>501.528</td>\n",
       "      <td>2.02910</td>\n",
       "      <td>3.0</td>\n",
       "      <td>9.0</td>\n",
       "      <td>7.041914</td>\n",
       "    </tr>\n",
       "    <tr>\n",
       "      <th>542</th>\n",
       "      <td>CHEMBL4761976</td>\n",
       "      <td>Nc1nc(-c2ccc(NC(=O)CCNC(=O)c3ccc(S(N)(=O)=O)cc...</td>\n",
       "      <td>active</td>\n",
       "      <td>572.607</td>\n",
       "      <td>1.53540</td>\n",
       "      <td>4.0</td>\n",
       "      <td>10.0</td>\n",
       "      <td>6.033389</td>\n",
       "    </tr>\n",
       "    <tr>\n",
       "      <th>543</th>\n",
       "      <td>CHEMBL4745473</td>\n",
       "      <td>O=P(O)(O)COC[C@H]1O[C@@H](n2ncc3c(NC4CCCC4)nc(...</td>\n",
       "      <td>inactive</td>\n",
       "      <td>463.815</td>\n",
       "      <td>0.60520</td>\n",
       "      <td>5.0</td>\n",
       "      <td>10.0</td>\n",
       "      <td>5.000000</td>\n",
       "    </tr>\n",
       "  </tbody>\n",
       "</table>\n",
       "<p>544 rows × 8 columns</p>\n",
       "</div>"
      ],
      "text/plain": [
       "    molecule_chembl_id                                   canonical_smiles  \\\n",
       "0         CHEMBL280888             CCCSc1c2c(nc(N)n3nc(-c4ccco4)nc23)nn1C   \n",
       "1          CHEMBL22113  COc1ccc(NC(=O)Nc2nc3nn(C)c(SC)c3c3nc(-c4ccco4)...   \n",
       "2         CHEMBL554955  CCNc1c2c(nc(NC(=O)Nc3ccc(OC)cc3)n3nc(-c4ccco4)...   \n",
       "3          CHEMBL21572  CSc1c2c(nc(NC(=O)Cc3ccc4c(c3)OCO4)n3nc(-c4ccco...   \n",
       "4         CHEMBL281129               CSc1c2c(nc(N)n3nc(-c4ccco4)nc23)nn1C   \n",
       "..                 ...                                                ...   \n",
       "539      CHEMBL2024116             Cc1cc(-c2nnc(N)nc2-c2ccc(F)cc2)cc(C)n1   \n",
       "540      CHEMBL2024116             Cc1cc(-c2nnc(N)nc2-c2ccc(F)cc2)cc(C)n1   \n",
       "541      CHEMBL4797036  Nc1nc(-c2ccc(NC(=O)c3ccc(S(N)(=O)=O)cc3)cc2)cn...   \n",
       "542      CHEMBL4761976  Nc1nc(-c2ccc(NC(=O)CCNC(=O)c3ccc(S(N)(=O)=O)cc...   \n",
       "543      CHEMBL4745473  O=P(O)(O)COC[C@H]1O[C@@H](n2ncc3c(NC4CCCC4)nc(...   \n",
       "\n",
       "    bioactivity_class       MW     LogP  NumHDonors  NumHAcceptors     pIC50  \n",
       "0              active  329.389  2.35530         1.0            9.0  7.829738  \n",
       "1              active  450.484  3.64550         2.0           10.0  7.756962  \n",
       "2              active  483.920  3.77720         3.0           10.0  7.214670  \n",
       "3              active  463.479  2.90280         1.0           11.0  7.667562  \n",
       "4              active  301.335  1.57510         1.0            9.0  8.214670  \n",
       "..                ...      ...      ...         ...            ...       ...  \n",
       "539            active  295.321  2.93874         1.0            5.0  9.102373  \n",
       "540            active  295.321  2.93874         1.0            5.0  8.000000  \n",
       "541            active  501.528  2.02910         3.0            9.0  7.041914  \n",
       "542            active  572.607  1.53540         4.0           10.0  6.033389  \n",
       "543          inactive  463.815  0.60520         5.0           10.0  5.000000  \n",
       "\n",
       "[544 rows x 8 columns]"
      ]
     },
     "execution_count": 17,
     "metadata": {},
     "output_type": "execute_result"
    }
   ],
   "source": [
    "import pandas as pd\n",
    "df_A2AAR = pd.read_csv(\"A2AAR_lipinski_pIC50.csv\")\n",
    "df_A2AAR"
   ]
  },
  {
   "cell_type": "code",
   "execution_count": 19,
   "id": "de71131b",
   "metadata": {
    "scrolled": false
   },
   "outputs": [
    {
     "data": {
      "text/html": [
       "<div>\n",
       "<style scoped>\n",
       "    .dataframe tbody tr th:only-of-type {\n",
       "        vertical-align: middle;\n",
       "    }\n",
       "\n",
       "    .dataframe tbody tr th {\n",
       "        vertical-align: top;\n",
       "    }\n",
       "\n",
       "    .dataframe thead th {\n",
       "        text-align: right;\n",
       "    }\n",
       "</style>\n",
       "<table border=\"1\" class=\"dataframe\">\n",
       "  <thead>\n",
       "    <tr style=\"text-align: right;\">\n",
       "      <th></th>\n",
       "      <th>molecule_chembl_id</th>\n",
       "      <th>canonical_smiles</th>\n",
       "      <th>bioactivity_class</th>\n",
       "      <th>MW</th>\n",
       "      <th>LogP</th>\n",
       "      <th>NumHDonors</th>\n",
       "      <th>NumHAcceptors</th>\n",
       "      <th>pIC50</th>\n",
       "    </tr>\n",
       "  </thead>\n",
       "  <tbody>\n",
       "    <tr>\n",
       "      <th>0</th>\n",
       "      <td>CHEMBL280888</td>\n",
       "      <td>CCCSc1c2c(nc(N)n3nc(-c4ccco4)nc23)nn1C</td>\n",
       "      <td>active</td>\n",
       "      <td>329.389</td>\n",
       "      <td>2.35530</td>\n",
       "      <td>1.0</td>\n",
       "      <td>9.0</td>\n",
       "      <td>7.829738</td>\n",
       "    </tr>\n",
       "    <tr>\n",
       "      <th>1</th>\n",
       "      <td>CHEMBL22113</td>\n",
       "      <td>COc1ccc(NC(=O)Nc2nc3nn(C)c(SC)c3c3nc(-c4ccco4)...</td>\n",
       "      <td>active</td>\n",
       "      <td>450.484</td>\n",
       "      <td>3.64550</td>\n",
       "      <td>2.0</td>\n",
       "      <td>10.0</td>\n",
       "      <td>7.756962</td>\n",
       "    </tr>\n",
       "    <tr>\n",
       "      <th>2</th>\n",
       "      <td>CHEMBL554955</td>\n",
       "      <td>CCNc1c2c(nc(NC(=O)Nc3ccc(OC)cc3)n3nc(-c4ccco4)...</td>\n",
       "      <td>active</td>\n",
       "      <td>483.920</td>\n",
       "      <td>3.77720</td>\n",
       "      <td>3.0</td>\n",
       "      <td>10.0</td>\n",
       "      <td>7.214670</td>\n",
       "    </tr>\n",
       "    <tr>\n",
       "      <th>3</th>\n",
       "      <td>CHEMBL21572</td>\n",
       "      <td>CSc1c2c(nc(NC(=O)Cc3ccc4c(c3)OCO4)n3nc(-c4ccco...</td>\n",
       "      <td>active</td>\n",
       "      <td>463.479</td>\n",
       "      <td>2.90280</td>\n",
       "      <td>1.0</td>\n",
       "      <td>11.0</td>\n",
       "      <td>7.667562</td>\n",
       "    </tr>\n",
       "    <tr>\n",
       "      <th>4</th>\n",
       "      <td>CHEMBL281129</td>\n",
       "      <td>CSc1c2c(nc(N)n3nc(-c4ccco4)nc23)nn1C</td>\n",
       "      <td>active</td>\n",
       "      <td>301.335</td>\n",
       "      <td>1.57510</td>\n",
       "      <td>1.0</td>\n",
       "      <td>9.0</td>\n",
       "      <td>8.214670</td>\n",
       "    </tr>\n",
       "    <tr>\n",
       "      <th>...</th>\n",
       "      <td>...</td>\n",
       "      <td>...</td>\n",
       "      <td>...</td>\n",
       "      <td>...</td>\n",
       "      <td>...</td>\n",
       "      <td>...</td>\n",
       "      <td>...</td>\n",
       "      <td>...</td>\n",
       "    </tr>\n",
       "    <tr>\n",
       "      <th>538</th>\n",
       "      <td>CHEMBL2024116</td>\n",
       "      <td>Cc1cc(-c2nnc(N)nc2-c2ccc(F)cc2)cc(C)n1</td>\n",
       "      <td>active</td>\n",
       "      <td>295.321</td>\n",
       "      <td>2.93874</td>\n",
       "      <td>1.0</td>\n",
       "      <td>5.0</td>\n",
       "      <td>6.844968</td>\n",
       "    </tr>\n",
       "    <tr>\n",
       "      <th>539</th>\n",
       "      <td>CHEMBL2024116</td>\n",
       "      <td>Cc1cc(-c2nnc(N)nc2-c2ccc(F)cc2)cc(C)n1</td>\n",
       "      <td>active</td>\n",
       "      <td>295.321</td>\n",
       "      <td>2.93874</td>\n",
       "      <td>1.0</td>\n",
       "      <td>5.0</td>\n",
       "      <td>9.102373</td>\n",
       "    </tr>\n",
       "    <tr>\n",
       "      <th>540</th>\n",
       "      <td>CHEMBL2024116</td>\n",
       "      <td>Cc1cc(-c2nnc(N)nc2-c2ccc(F)cc2)cc(C)n1</td>\n",
       "      <td>active</td>\n",
       "      <td>295.321</td>\n",
       "      <td>2.93874</td>\n",
       "      <td>1.0</td>\n",
       "      <td>5.0</td>\n",
       "      <td>8.000000</td>\n",
       "    </tr>\n",
       "    <tr>\n",
       "      <th>541</th>\n",
       "      <td>CHEMBL4797036</td>\n",
       "      <td>Nc1nc(-c2ccc(NC(=O)c3ccc(S(N)(=O)=O)cc3)cc2)cn...</td>\n",
       "      <td>active</td>\n",
       "      <td>501.528</td>\n",
       "      <td>2.02910</td>\n",
       "      <td>3.0</td>\n",
       "      <td>9.0</td>\n",
       "      <td>7.041914</td>\n",
       "    </tr>\n",
       "    <tr>\n",
       "      <th>542</th>\n",
       "      <td>CHEMBL4761976</td>\n",
       "      <td>Nc1nc(-c2ccc(NC(=O)CCNC(=O)c3ccc(S(N)(=O)=O)cc...</td>\n",
       "      <td>active</td>\n",
       "      <td>572.607</td>\n",
       "      <td>1.53540</td>\n",
       "      <td>4.0</td>\n",
       "      <td>10.0</td>\n",
       "      <td>6.033389</td>\n",
       "    </tr>\n",
       "  </tbody>\n",
       "</table>\n",
       "<p>334 rows × 8 columns</p>\n",
       "</div>"
      ],
      "text/plain": [
       "    molecule_chembl_id                                   canonical_smiles  \\\n",
       "0         CHEMBL280888             CCCSc1c2c(nc(N)n3nc(-c4ccco4)nc23)nn1C   \n",
       "1          CHEMBL22113  COc1ccc(NC(=O)Nc2nc3nn(C)c(SC)c3c3nc(-c4ccco4)...   \n",
       "2         CHEMBL554955  CCNc1c2c(nc(NC(=O)Nc3ccc(OC)cc3)n3nc(-c4ccco4)...   \n",
       "3          CHEMBL21572  CSc1c2c(nc(NC(=O)Cc3ccc4c(c3)OCO4)n3nc(-c4ccco...   \n",
       "4         CHEMBL281129               CSc1c2c(nc(N)n3nc(-c4ccco4)nc23)nn1C   \n",
       "..                 ...                                                ...   \n",
       "538      CHEMBL2024116             Cc1cc(-c2nnc(N)nc2-c2ccc(F)cc2)cc(C)n1   \n",
       "539      CHEMBL2024116             Cc1cc(-c2nnc(N)nc2-c2ccc(F)cc2)cc(C)n1   \n",
       "540      CHEMBL2024116             Cc1cc(-c2nnc(N)nc2-c2ccc(F)cc2)cc(C)n1   \n",
       "541      CHEMBL4797036  Nc1nc(-c2ccc(NC(=O)c3ccc(S(N)(=O)=O)cc3)cc2)cn...   \n",
       "542      CHEMBL4761976  Nc1nc(-c2ccc(NC(=O)CCNC(=O)c3ccc(S(N)(=O)=O)cc...   \n",
       "\n",
       "    bioactivity_class       MW     LogP  NumHDonors  NumHAcceptors     pIC50  \n",
       "0              active  329.389  2.35530         1.0            9.0  7.829738  \n",
       "1              active  450.484  3.64550         2.0           10.0  7.756962  \n",
       "2              active  483.920  3.77720         3.0           10.0  7.214670  \n",
       "3              active  463.479  2.90280         1.0           11.0  7.667562  \n",
       "4              active  301.335  1.57510         1.0            9.0  8.214670  \n",
       "..                ...      ...      ...         ...            ...       ...  \n",
       "538            active  295.321  2.93874         1.0            5.0  6.844968  \n",
       "539            active  295.321  2.93874         1.0            5.0  9.102373  \n",
       "540            active  295.321  2.93874         1.0            5.0  8.000000  \n",
       "541            active  501.528  2.02910         3.0            9.0  7.041914  \n",
       "542            active  572.607  1.53540         4.0           10.0  6.033389  \n",
       "\n",
       "[334 rows x 8 columns]"
      ]
     },
     "execution_count": 19,
     "metadata": {},
     "output_type": "execute_result"
    }
   ],
   "source": [
    "df_A2AAR_actives = df_A2AAR[df_A2AAR.bioactivity_class == 'active']\n",
    "df_A2AAR_actives"
   ]
  },
  {
   "cell_type": "code",
   "execution_count": 20,
   "id": "af9f4667",
   "metadata": {},
   "outputs": [],
   "source": [
    "selection = ['canonical_smiles']\n",
    "A2AAR_smiles = df_A2AAR_actives[selection]\n",
    "A2AAR_smiles.to_csv('A2AAR_actives.txt', sep='\\n', index=False, header=False)"
   ]
  },
  {
   "cell_type": "code",
   "execution_count": 21,
   "id": "c64e392b",
   "metadata": {},
   "outputs": [],
   "source": [
    "## MAOB"
   ]
  },
  {
   "cell_type": "code",
   "execution_count": 22,
   "id": "5c8cd1bb",
   "metadata": {},
   "outputs": [
    {
     "data": {
      "text/html": [
       "<div>\n",
       "<style scoped>\n",
       "    .dataframe tbody tr th:only-of-type {\n",
       "        vertical-align: middle;\n",
       "    }\n",
       "\n",
       "    .dataframe tbody tr th {\n",
       "        vertical-align: top;\n",
       "    }\n",
       "\n",
       "    .dataframe thead th {\n",
       "        text-align: right;\n",
       "    }\n",
       "</style>\n",
       "<table border=\"1\" class=\"dataframe\">\n",
       "  <thead>\n",
       "    <tr style=\"text-align: right;\">\n",
       "      <th></th>\n",
       "      <th>molecule_chembl_id</th>\n",
       "      <th>canonical_smiles</th>\n",
       "      <th>bioactivity_class</th>\n",
       "      <th>MW</th>\n",
       "      <th>LogP</th>\n",
       "      <th>NumHDonors</th>\n",
       "      <th>NumHAcceptors</th>\n",
       "      <th>pIC50</th>\n",
       "    </tr>\n",
       "  </thead>\n",
       "  <tbody>\n",
       "    <tr>\n",
       "      <th>0</th>\n",
       "      <td>CHEMBL156630</td>\n",
       "      <td>C/N=C1/CCc2c1n(C)c1ccc(OC(=O)NCc3ccccc3)c(Br)c21</td>\n",
       "      <td>inactive</td>\n",
       "      <td>426.314</td>\n",
       "      <td>4.59450</td>\n",
       "      <td>1.0</td>\n",
       "      <td>4.0</td>\n",
       "      <td>3.000000</td>\n",
       "    </tr>\n",
       "    <tr>\n",
       "      <th>1</th>\n",
       "      <td>CHEMBL155754</td>\n",
       "      <td>C/N=C1/CCc2c1n(C)c1ccc(OC(=O)NC)c(Cl)c21</td>\n",
       "      <td>inactive</td>\n",
       "      <td>305.765</td>\n",
       "      <td>2.91500</td>\n",
       "      <td>1.0</td>\n",
       "      <td>4.0</td>\n",
       "      <td>3.000000</td>\n",
       "    </tr>\n",
       "    <tr>\n",
       "      <th>2</th>\n",
       "      <td>CHEMBL350093</td>\n",
       "      <td>N#CCCN1CC(=O)OC(c2ccc(OCc3ccccc3)cc2)=N1</td>\n",
       "      <td>active</td>\n",
       "      <td>335.363</td>\n",
       "      <td>2.69968</td>\n",
       "      <td>0.0</td>\n",
       "      <td>6.0</td>\n",
       "      <td>7.744727</td>\n",
       "    </tr>\n",
       "    <tr>\n",
       "      <th>3</th>\n",
       "      <td>CHEMBL161907</td>\n",
       "      <td>O=c1c(=O)c2ccc(OCCCC(F)(F)F)cc2c1=O</td>\n",
       "      <td>active</td>\n",
       "      <td>286.205</td>\n",
       "      <td>1.51730</td>\n",
       "      <td>0.0</td>\n",
       "      <td>4.0</td>\n",
       "      <td>8.045757</td>\n",
       "    </tr>\n",
       "    <tr>\n",
       "      <th>4</th>\n",
       "      <td>CHEMBL17079</td>\n",
       "      <td>N#CCCn1nc(-c2ccc(OCc3ccccc3)cc2)oc1=S</td>\n",
       "      <td>active</td>\n",
       "      <td>337.404</td>\n",
       "      <td>4.36527</td>\n",
       "      <td>0.0</td>\n",
       "      <td>6.0</td>\n",
       "      <td>8.356547</td>\n",
       "    </tr>\n",
       "    <tr>\n",
       "      <th>...</th>\n",
       "      <td>...</td>\n",
       "      <td>...</td>\n",
       "      <td>...</td>\n",
       "      <td>...</td>\n",
       "      <td>...</td>\n",
       "      <td>...</td>\n",
       "      <td>...</td>\n",
       "      <td>...</td>\n",
       "    </tr>\n",
       "    <tr>\n",
       "      <th>4912</th>\n",
       "      <td>CHEMBL4785539</td>\n",
       "      <td>C#CCN(C)CCCCCOc1ccc(C=O)c(OC)c1</td>\n",
       "      <td>intermediate</td>\n",
       "      <td>289.375</td>\n",
       "      <td>2.62180</td>\n",
       "      <td>0.0</td>\n",
       "      <td>4.0</td>\n",
       "      <td>5.241467</td>\n",
       "    </tr>\n",
       "    <tr>\n",
       "      <th>4913</th>\n",
       "      <td>CHEMBL4784768</td>\n",
       "      <td>C#CCN(C)CCCCCCOc1ccc(C=O)c(OC)c1</td>\n",
       "      <td>active</td>\n",
       "      <td>303.402</td>\n",
       "      <td>3.01190</td>\n",
       "      <td>0.0</td>\n",
       "      <td>4.0</td>\n",
       "      <td>6.258218</td>\n",
       "    </tr>\n",
       "    <tr>\n",
       "      <th>4914</th>\n",
       "      <td>CHEMBL8706</td>\n",
       "      <td>C#CCN(C)CCCOc1ccc(Cl)cc1Cl</td>\n",
       "      <td>inactive</td>\n",
       "      <td>272.175</td>\n",
       "      <td>3.32730</td>\n",
       "      <td>0.0</td>\n",
       "      <td>2.0</td>\n",
       "      <td>4.207538</td>\n",
       "    </tr>\n",
       "    <tr>\n",
       "      <th>4915</th>\n",
       "      <td>CHEMBL887</td>\n",
       "      <td>C#CCN[C@@H]1CCc2ccccc21</td>\n",
       "      <td>active</td>\n",
       "      <td>171.243</td>\n",
       "      <td>1.89670</td>\n",
       "      <td>1.0</td>\n",
       "      <td>1.0</td>\n",
       "      <td>6.848630</td>\n",
       "    </tr>\n",
       "    <tr>\n",
       "      <th>4916</th>\n",
       "      <td>CHEMBL92401</td>\n",
       "      <td>CC(C)NNC(=O)c1ccncc1</td>\n",
       "      <td>intermediate</td>\n",
       "      <td>179.223</td>\n",
       "      <td>0.72440</td>\n",
       "      <td>2.0</td>\n",
       "      <td>3.0</td>\n",
       "      <td>5.130182</td>\n",
       "    </tr>\n",
       "  </tbody>\n",
       "</table>\n",
       "<p>4917 rows × 8 columns</p>\n",
       "</div>"
      ],
      "text/plain": [
       "     molecule_chembl_id                                  canonical_smiles  \\\n",
       "0          CHEMBL156630  C/N=C1/CCc2c1n(C)c1ccc(OC(=O)NCc3ccccc3)c(Br)c21   \n",
       "1          CHEMBL155754          C/N=C1/CCc2c1n(C)c1ccc(OC(=O)NC)c(Cl)c21   \n",
       "2          CHEMBL350093          N#CCCN1CC(=O)OC(c2ccc(OCc3ccccc3)cc2)=N1   \n",
       "3          CHEMBL161907               O=c1c(=O)c2ccc(OCCCC(F)(F)F)cc2c1=O   \n",
       "4           CHEMBL17079             N#CCCn1nc(-c2ccc(OCc3ccccc3)cc2)oc1=S   \n",
       "...                 ...                                               ...   \n",
       "4912      CHEMBL4785539                   C#CCN(C)CCCCCOc1ccc(C=O)c(OC)c1   \n",
       "4913      CHEMBL4784768                  C#CCN(C)CCCCCCOc1ccc(C=O)c(OC)c1   \n",
       "4914         CHEMBL8706                        C#CCN(C)CCCOc1ccc(Cl)cc1Cl   \n",
       "4915          CHEMBL887                           C#CCN[C@@H]1CCc2ccccc21   \n",
       "4916        CHEMBL92401                              CC(C)NNC(=O)c1ccncc1   \n",
       "\n",
       "     bioactivity_class       MW     LogP  NumHDonors  NumHAcceptors     pIC50  \n",
       "0             inactive  426.314  4.59450         1.0            4.0  3.000000  \n",
       "1             inactive  305.765  2.91500         1.0            4.0  3.000000  \n",
       "2               active  335.363  2.69968         0.0            6.0  7.744727  \n",
       "3               active  286.205  1.51730         0.0            4.0  8.045757  \n",
       "4               active  337.404  4.36527         0.0            6.0  8.356547  \n",
       "...                ...      ...      ...         ...            ...       ...  \n",
       "4912      intermediate  289.375  2.62180         0.0            4.0  5.241467  \n",
       "4913            active  303.402  3.01190         0.0            4.0  6.258218  \n",
       "4914          inactive  272.175  3.32730         0.0            2.0  4.207538  \n",
       "4915            active  171.243  1.89670         1.0            1.0  6.848630  \n",
       "4916      intermediate  179.223  0.72440         2.0            3.0  5.130182  \n",
       "\n",
       "[4917 rows x 8 columns]"
      ]
     },
     "execution_count": 22,
     "metadata": {},
     "output_type": "execute_result"
    }
   ],
   "source": [
    "import pandas as pd\n",
    "df_MAOB = pd.read_csv(\"MAOB_lipinski_pIC50.csv\")\n",
    "df_MAOB"
   ]
  },
  {
   "cell_type": "code",
   "execution_count": 23,
   "id": "26d587fb",
   "metadata": {},
   "outputs": [
    {
     "data": {
      "text/html": [
       "<div>\n",
       "<style scoped>\n",
       "    .dataframe tbody tr th:only-of-type {\n",
       "        vertical-align: middle;\n",
       "    }\n",
       "\n",
       "    .dataframe tbody tr th {\n",
       "        vertical-align: top;\n",
       "    }\n",
       "\n",
       "    .dataframe thead th {\n",
       "        text-align: right;\n",
       "    }\n",
       "</style>\n",
       "<table border=\"1\" class=\"dataframe\">\n",
       "  <thead>\n",
       "    <tr style=\"text-align: right;\">\n",
       "      <th></th>\n",
       "      <th>molecule_chembl_id</th>\n",
       "      <th>canonical_smiles</th>\n",
       "      <th>bioactivity_class</th>\n",
       "      <th>MW</th>\n",
       "      <th>LogP</th>\n",
       "      <th>NumHDonors</th>\n",
       "      <th>NumHAcceptors</th>\n",
       "      <th>pIC50</th>\n",
       "    </tr>\n",
       "  </thead>\n",
       "  <tbody>\n",
       "    <tr>\n",
       "      <th>2</th>\n",
       "      <td>CHEMBL350093</td>\n",
       "      <td>N#CCCN1CC(=O)OC(c2ccc(OCc3ccccc3)cc2)=N1</td>\n",
       "      <td>active</td>\n",
       "      <td>335.363</td>\n",
       "      <td>2.69968</td>\n",
       "      <td>0.0</td>\n",
       "      <td>6.0</td>\n",
       "      <td>7.744727</td>\n",
       "    </tr>\n",
       "    <tr>\n",
       "      <th>3</th>\n",
       "      <td>CHEMBL161907</td>\n",
       "      <td>O=c1c(=O)c2ccc(OCCCC(F)(F)F)cc2c1=O</td>\n",
       "      <td>active</td>\n",
       "      <td>286.205</td>\n",
       "      <td>1.51730</td>\n",
       "      <td>0.0</td>\n",
       "      <td>4.0</td>\n",
       "      <td>8.045757</td>\n",
       "    </tr>\n",
       "    <tr>\n",
       "      <th>4</th>\n",
       "      <td>CHEMBL17079</td>\n",
       "      <td>N#CCCn1nc(-c2ccc(OCc3ccccc3)cc2)oc1=S</td>\n",
       "      <td>active</td>\n",
       "      <td>337.404</td>\n",
       "      <td>4.36527</td>\n",
       "      <td>0.0</td>\n",
       "      <td>6.0</td>\n",
       "      <td>8.356547</td>\n",
       "    </tr>\n",
       "    <tr>\n",
       "      <th>12</th>\n",
       "      <td>CHEMBL434261</td>\n",
       "      <td>N#CCCn1nnc(-c2ccc(OCc3ccccc3)cc2)n1</td>\n",
       "      <td>active</td>\n",
       "      <td>305.341</td>\n",
       "      <td>2.83278</td>\n",
       "      <td>0.0</td>\n",
       "      <td>6.0</td>\n",
       "      <td>8.698970</td>\n",
       "    </tr>\n",
       "    <tr>\n",
       "      <th>16</th>\n",
       "      <td>CHEMBL17092</td>\n",
       "      <td>N#CCCn1nc(-c2ccc(OCc3ccccc3)cc2)oc1=O</td>\n",
       "      <td>active</td>\n",
       "      <td>321.336</td>\n",
       "      <td>2.99598</td>\n",
       "      <td>0.0</td>\n",
       "      <td>6.0</td>\n",
       "      <td>8.657577</td>\n",
       "    </tr>\n",
       "    <tr>\n",
       "      <th>...</th>\n",
       "      <td>...</td>\n",
       "      <td>...</td>\n",
       "      <td>...</td>\n",
       "      <td>...</td>\n",
       "      <td>...</td>\n",
       "      <td>...</td>\n",
       "      <td>...</td>\n",
       "      <td>...</td>\n",
       "    </tr>\n",
       "    <tr>\n",
       "      <th>4907</th>\n",
       "      <td>CHEMBL4776135</td>\n",
       "      <td>C#CCN(C)CCCCOc1ccc(C(C)=O)cc1</td>\n",
       "      <td>active</td>\n",
       "      <td>259.349</td>\n",
       "      <td>2.61320</td>\n",
       "      <td>0.0</td>\n",
       "      <td>3.0</td>\n",
       "      <td>7.247875</td>\n",
       "    </tr>\n",
       "    <tr>\n",
       "      <th>4908</th>\n",
       "      <td>CHEMBL4778143</td>\n",
       "      <td>C#CCN(C)CCCCCCOc1ccc(C(C)=O)cc1</td>\n",
       "      <td>active</td>\n",
       "      <td>287.403</td>\n",
       "      <td>3.39340</td>\n",
       "      <td>0.0</td>\n",
       "      <td>3.0</td>\n",
       "      <td>7.689944</td>\n",
       "    </tr>\n",
       "    <tr>\n",
       "      <th>4909</th>\n",
       "      <td>CHEMBL4799286</td>\n",
       "      <td>C#CCN(C)CCCCCOc1cccc(OC)c1</td>\n",
       "      <td>active</td>\n",
       "      <td>261.365</td>\n",
       "      <td>2.80930</td>\n",
       "      <td>0.0</td>\n",
       "      <td>3.0</td>\n",
       "      <td>6.996281</td>\n",
       "    </tr>\n",
       "    <tr>\n",
       "      <th>4913</th>\n",
       "      <td>CHEMBL4784768</td>\n",
       "      <td>C#CCN(C)CCCCCCOc1ccc(C=O)c(OC)c1</td>\n",
       "      <td>active</td>\n",
       "      <td>303.402</td>\n",
       "      <td>3.01190</td>\n",
       "      <td>0.0</td>\n",
       "      <td>4.0</td>\n",
       "      <td>6.258218</td>\n",
       "    </tr>\n",
       "    <tr>\n",
       "      <th>4915</th>\n",
       "      <td>CHEMBL887</td>\n",
       "      <td>C#CCN[C@@H]1CCc2ccccc21</td>\n",
       "      <td>active</td>\n",
       "      <td>171.243</td>\n",
       "      <td>1.89670</td>\n",
       "      <td>1.0</td>\n",
       "      <td>1.0</td>\n",
       "      <td>6.848630</td>\n",
       "    </tr>\n",
       "  </tbody>\n",
       "</table>\n",
       "<p>2015 rows × 8 columns</p>\n",
       "</div>"
      ],
      "text/plain": [
       "     molecule_chembl_id                          canonical_smiles  \\\n",
       "2          CHEMBL350093  N#CCCN1CC(=O)OC(c2ccc(OCc3ccccc3)cc2)=N1   \n",
       "3          CHEMBL161907       O=c1c(=O)c2ccc(OCCCC(F)(F)F)cc2c1=O   \n",
       "4           CHEMBL17079     N#CCCn1nc(-c2ccc(OCc3ccccc3)cc2)oc1=S   \n",
       "12         CHEMBL434261       N#CCCn1nnc(-c2ccc(OCc3ccccc3)cc2)n1   \n",
       "16          CHEMBL17092     N#CCCn1nc(-c2ccc(OCc3ccccc3)cc2)oc1=O   \n",
       "...                 ...                                       ...   \n",
       "4907      CHEMBL4776135             C#CCN(C)CCCCOc1ccc(C(C)=O)cc1   \n",
       "4908      CHEMBL4778143           C#CCN(C)CCCCCCOc1ccc(C(C)=O)cc1   \n",
       "4909      CHEMBL4799286                C#CCN(C)CCCCCOc1cccc(OC)c1   \n",
       "4913      CHEMBL4784768          C#CCN(C)CCCCCCOc1ccc(C=O)c(OC)c1   \n",
       "4915          CHEMBL887                   C#CCN[C@@H]1CCc2ccccc21   \n",
       "\n",
       "     bioactivity_class       MW     LogP  NumHDonors  NumHAcceptors     pIC50  \n",
       "2               active  335.363  2.69968         0.0            6.0  7.744727  \n",
       "3               active  286.205  1.51730         0.0            4.0  8.045757  \n",
       "4               active  337.404  4.36527         0.0            6.0  8.356547  \n",
       "12              active  305.341  2.83278         0.0            6.0  8.698970  \n",
       "16              active  321.336  2.99598         0.0            6.0  8.657577  \n",
       "...                ...      ...      ...         ...            ...       ...  \n",
       "4907            active  259.349  2.61320         0.0            3.0  7.247875  \n",
       "4908            active  287.403  3.39340         0.0            3.0  7.689944  \n",
       "4909            active  261.365  2.80930         0.0            3.0  6.996281  \n",
       "4913            active  303.402  3.01190         0.0            4.0  6.258218  \n",
       "4915            active  171.243  1.89670         1.0            1.0  6.848630  \n",
       "\n",
       "[2015 rows x 8 columns]"
      ]
     },
     "execution_count": 23,
     "metadata": {},
     "output_type": "execute_result"
    }
   ],
   "source": [
    "df_MAOB_actives = df_MAOB[df_MAOB.bioactivity_class == 'active']\n",
    "df_MAOB_actives"
   ]
  },
  {
   "cell_type": "code",
   "execution_count": 24,
   "id": "b8b254d1",
   "metadata": {},
   "outputs": [],
   "source": [
    "selection = ['canonical_smiles']\n",
    "MAOB_smiles = df_MAOB_actives[selection]\n",
    "MAOB_smiles.to_csv('MAOB_actives.txt', sep='\\n', index=False, header=False)"
   ]
  },
  {
   "cell_type": "markdown",
   "id": "e63c38c1",
   "metadata": {},
   "source": [
    "Now that we have the actives for both targets, we can now go ahead with the extraction of the motifs/rationales"
   ]
  },
  {
   "cell_type": "code",
   "execution_count": null,
   "id": "8fd25201",
   "metadata": {},
   "outputs": [],
   "source": [
    "! python mcts.py --data data/jnk3/actives.txt --prop jnk3 --ncpu 4 > jnk3_rationales.txt"
   ]
  },
  {
   "cell_type": "code",
   "execution_count": null,
   "id": "745e934b",
   "metadata": {},
   "outputs": [],
   "source": [
    "! python mcts.py --data data/gsk3/actives.txt --prop gsk3 --ncpu 4 > gsk3_rationales.txt"
   ]
  },
  {
   "cell_type": "markdown",
   "id": "c01bfafe",
   "metadata": {},
   "source": [
    "To construct multi-property rationales, we can merge the single-property rationales for GSK3 and JNK3: "
   ]
  },
  {
   "cell_type": "code",
   "execution_count": null,
   "id": "ddbee238",
   "metadata": {},
   "outputs": [],
   "source": [
    "! python merge_rationale.py --rationale1 data/gsk3/rationales.txt --rationale2 data/jnk3/rationales.txt > gsk3_jnk3.txt"
   ]
  },
  {
   "cell_type": "markdown",
   "id": "a0905aea",
   "metadata": {},
   "source": [
    "# 3. Generative Model Pre-training"
   ]
  },
  {
   "cell_type": "markdown",
   "id": "1ad721be",
   "metadata": {},
   "source": [
    "The molecule completion model is pre-trained on the ChEMBL dataset. For ease of use, we will use the model generated by the authors of the algorithm stored in the directory ckpt/chembl-h400beta0.3/model.20"
   ]
  },
  {
   "cell_type": "markdown",
   "id": "aba050ed",
   "metadata": {},
   "source": [
    "# 4. Molecule Generation"
   ]
  },
  {
   "cell_type": "markdown",
   "id": "fe349246",
   "metadata": {},
   "source": [
    "A good preprocessing task would be to design dual inhibitors against A2AAR and MAOB with drug-likeness and synthetic accessibility constraints.  This implies finetuning the above model. We have already computed multi-property rationales in data/gsk3_jnk3_qed_sa/rationales.txt. It is a subset of GSK3-JNK3 rationales with QED > 0.6 and SA < 4.0."
   ]
  },
  {
   "cell_type": "code",
   "execution_count": null,
   "id": "8bc961c5",
   "metadata": {},
   "outputs": [],
   "source": [
    "! python finetune.py --init_model ckpt/chembl-h400beta0.3/model.20 --save_dir ckpt/tmp/ --\n",
    "rationale data/gsk3_jnk3_qed_sa/rationales.txt --num_decode 200 --prop gsk3,jnk3,qed,sa --epoch 30 --alpha 0.5"
   ]
  },
  {
   "cell_type": "markdown",
   "id": "fab7b19e",
   "metadata": {},
   "source": [
    "The molecule generation script will expand the extracted rationales into full molecules. The output is a list of pairs (rationale, molecule), where molecule is the completion of rationale"
   ]
  },
  {
   "cell_type": "code",
   "execution_count": null,
   "id": "deb17049",
   "metadata": {},
   "outputs": [],
   "source": [
    "! python decode.py --model ckpt/gsk3_jnk3_qed_sa/model.final > outputs.txt"
   ]
  },
  {
   "cell_type": "markdown",
   "id": "523d6cc0",
   "metadata": {},
   "source": [
    "## Evaluation of the Output"
   ]
  },
  {
   "cell_type": "markdown",
   "id": "36a2d71c",
   "metadata": {},
   "source": [
    "We can evaluate the outputs for the four property constraint i.e. gsk3_activity, jnk3_activity, qed, sa by:-"
   ]
  },
  {
   "cell_type": "code",
   "execution_count": null,
   "id": "b78a1261",
   "metadata": {},
   "outputs": [],
   "source": [
    "! python properties.py --prop gsk3,jnk3,qed,sa < outputs.txt | python scripts/qed_sa_dual_eval.py --ref_path data/dual_gsk3_jnk3/actives.txt"
   ]
  },
  {
   "cell_type": "markdown",
   "id": "70a95616",
   "metadata": {},
   "source": [
    "The code above includes the reference path to the actives_cpds so as to help compute the novelty score"
   ]
  }
 ],
 "metadata": {
  "kernelspec": {
   "display_name": "Python [conda env:hierVAE]",
   "language": "python",
   "name": "conda-env-hierVAE-py"
  },
  "language_info": {
   "codemirror_mode": {
    "name": "ipython",
    "version": 3
   },
   "file_extension": ".py",
   "mimetype": "text/x-python",
   "name": "python",
   "nbconvert_exporter": "python",
   "pygments_lexer": "ipython3",
   "version": "3.7.0"
  }
 },
 "nbformat": 4,
 "nbformat_minor": 5
}
